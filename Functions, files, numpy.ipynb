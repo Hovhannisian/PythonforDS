
  {
   "cell_type": "markdown",
   "metadata": {},
   "source": [
    "***Problem 1:***<br>a. Write a lambda function that raises a number to the third power and maps it on the following list creating a new list named \"result\".<br>\n",
    "b.  Define a function that takes a number as an input and returns True if it is odd and False otherwise. Filter \"result\" list keeping only odd numbers using the function defined."
   ]
  },
  {
   "cell_type": "code",
   "execution_count": 2,
   "metadata": {},
   "outputs": [
    {
     "name": "stdout",
     "output_type": "stream",
     "text": [
      "[27, 64, 125, 216, 343]\n"
     ]
    }
   ],
   "source": [
    "\n",
    "nums = [3, 4, 5, 6, 7]\n",
    "\n",
    "#a\n",
    "result =list(map( lambda x: x**3, nums ))\n",
    "print(result)\n",
    "\n",
    "\n",
    "###_____________End code here_________________###"
   ]
  },
  {
   "cell_type": "code",
   "execution_count": null,
   "metadata": {},
   "outputs": [
    {
     "name": "stdout",
     "output_type": "stream",
     "text": [
      "False\n",
      "[27, 125, 343]\n"
     ]
    }
   ],
   "source": [
    "\n",
    "#b\n",
    "def boo(num):\n",
    "    if num%2!= 0:\n",
    "        print(True)\n",
    "    else:\n",
    "        print(False)\n",
    "boo(8)\n",
    "\n",
    "odd = list(filter(lambda x: x%2!=0, result))\n",
    "print(odd)\n",
    "\n",
    "###_____________End code here_________________###"
   ]
  },
  {
   "cell_type": "markdown",
   "metadata": {},
   "source": [
    "***Problem 2:*** <br>Write a program that asks a user to provide  a name  and a surname and returns a new email with  \"@edu.aua.am\" ending and underscore between the name and surname.<br> **Example**:\n",
    "For a person named Steve Jobs the email should be steve_jobs@edu.aua.am."
   ]
  },
  {
   "cell_type": "code",
   "execution_count": null,
   "metadata": {},
   "outputs": [],
   "source": [
    "#_____________Start code here_________________###\n",
    "inp = input(\"Enter your name and surname\")\n",
    "info = str(inp).split()\n",
    "print(str.lower(info[0])+\"_\"+str.lower(info[1])+\"@edu.aua.am\")\n",
    "\n",
    "###_____________End code here_________________###"
   ]
  },
  {
   "cell_type": "markdown",
   "metadata": {},
   "source": [
    "***Problem 3:*** <br> a. Use an assert statement to make sure that the passed list is not empty and if it is empty report it with an expression that tells the list being empty <br>b. Write a function that asks a user to input numbers separated by a comma and return the average of numbers.<br> Make sure to warn the user if he/she provided as an input anything other than number.<br>\n",
    "**Hint:** You can use try/except."
   ]
  },
  {
   "cell_type": "code",
   "execution_count": null,
   "metadata": {},
   "outputs": [],
   "source": [
    "#a\n",
    "def avg(marks): \n",
    "    assert(len(marks)>0), \"Please write numbers\"\n",
    "    return sum(marks)/len(marks)\n",
    "\n",
    "mark1 = [2, 3, 5]\n",
    "print(\"Average of mark1:\",avg(mark1))"
   ]
  },
  {
   "cell_type": "code",
   "execution_count": null,
   "metadata": {},
   "outputs": [],
   "source": [
    "#b\n",
    "\n",
    "mrk = input( \"write numbers separated by a comma\" )\n",
    "import numpy as np\n",
    "\n",
    "def av():\n",
    "    user_input = input(\"write numbers separated by a comma\")\n",
    "    upd = [float(i) for i in user_input.split(\",\")]\n",
    "    user_input_array = np.array(upd)\n",
    "    av_of_input = np.average(user_input_array)\n",
    "    print (av_of_input)\n",
    "    \n"
   ]
  },
  {
   "cell_type": "markdown",
   "metadata": {},
   "source": [
    "***Problem 4:***  <br>Given the list below, create a new one that contains all the numeric elements of the nested lists using list comprehensions.<br>\n",
    "**Note:** \"10\" is numeric. <br>\n",
    "**Hint:** Use isdigit() method to check whether a string is numeric."
   ]
  },
  {
   "cell_type": "code",
   "execution_count": null,
   "metadata": {},
   "outputs": [],
   "source": [
    "list_of_list = [[1,\"I am a string\",2,3],[4,\"5\",6,\"Not a number\"],[7,8,9,\"10\"]]\n",
    "#\n",
    "\n",
    "[j for i in list_of_list for j in i if str(j).isdigit()]\n",
    "\n"
   ]
  },
  {
   "cell_type": "markdown",
   "metadata": {},
   "source": [
    "***Problem 5:***<br>Increase the following data scientists' salaries by 10 percent except for Lord Voldemort using dictionary comprehension."
   ]
  },
  {
   "cell_type": "code",
   "execution_count": null,
   "metadata": {},
   "outputs": [],
   "source": [
    "Data_Scientist={\"Harry Potter\":700,\"Ron Weasley\":650,\"Lord Voldemort\":900,\"Hermione Granger\":800,\"Albus Dumbledore\":1000}\n",
    "\n",
    "\n",
    "\n",
    "\n",
    "{key:value+value*0.1 for i in Data_Scientist for key,value in Data_Scientist.items() if key !=\"Lord Voldemort\"}\n",
    "\n",
    "###_____________End code here_________________###"
   ]
  },
  {
   "cell_type": "markdown",
   "metadata": {},
   "source": [
    "***Problem 6:***<br>a. Create a new folder in your current directory named \"files\" and change directory into that folder.<br>\n",
    "b. There are 4 famous quotes in \"quotes\" list provided below. Create/write 4 separate txt files one for each quote.<br>\n",
    "c. List all the files in \"files\" directory and loop over the files to read the quotes and write all quotes in a new txt file called \"combined.txt\".\n",
    "<br>**Note: Do not forget to change back to your working directory for the remaining problems.**"
   ]
  },
  {
   "cell_type": "code",
   "execution_count": null,
   "metadata": {},
   "outputs": [],
   "source": [
    "#Ea\n",
    "import os\n",
    "os.getcwd()\n",
    "os.mkdir(\"files\")\n",
    "os.chdir(\"files\")"
   ]
  },
  {
   "cell_type": "code",
   "execution_count": null,
   "metadata": {},
   "outputs": [],
   "source": [
    "#b\n",
    "quotes=[\"I'm going to make him an offer he can't refuse.\",\n",
    "\"The first rule of Fight Club is: You do not talk about Fight Club.\",\n",
    "\"Of all the gin joints in all the towns in all the world, she walks into mine.\", \n",
    "\"Being brave doesn't mean you go looking for trouble․\"]\n",
    "print(quotes[3])\n",
    "\n",
    "names = [1,2,3,4]\n",
    "for i ,j in zip(names,quotes):\n",
    "    with open(str(i)+\".txt\", \"a\") as file:\n",
    "        file.write (str(j))"
   ]
  },
  {
   "cell_type": "code",
   "execution_count": null,
   "metadata": {},
   "outputs": [],
   "source": [
    "#c\n",
    "a = os.listdir()\n",
    "print(a)\n",
    "for i in a:\n",
    "    with open(i, \"r\") as txt:\n",
    "        t=txt.read()\n",
    "    with open (\"combined.txt\", \"w\") as c:\n",
    "        c.write(str(t))\n",
    "\n",
    "        \n",
    "\n"
   ]
  },
  {
   "cell_type": "code",
   "execution_count": null,
   "metadata": {},
   "outputs": [],
   "source": [
    "\n",
    "print(os.getcwd())\n"
   ]
  },
  {
   "cell_type": "markdown",
   "metadata": {},
   "source": [
    "***Problem 7:***\n",
    "<br>a. Calculate the value of \"string\" expression given below.<br>\n",
    "b. Execute the code written in \"code.txt\" file attached."
   ]
  },
  {
   "cell_type": "code",
   "execution_count": null,
   "metadata": {},
   "outputs": [],
   "source": [
    "#a\n",
    "a=5\n",
    "c=2\n",
    "string='round((a+51)**c/75,-1)+1'\n",
    "eval(string)\n",
    "\n"
   ]
  },
  {
   "cell_type": "code",
   "execution_count": null,
   "metadata": {},
   "outputs": [],
   "source": [
    "#b\n",
    "\n",
    "###_____________Start code here_________________###\n",
    "with open (\"code.txt\", \"r\") as code:\n",
    "    c=code.read()\n",
    "    exec(c)\n",
    "###_____________End code here_________________###\n"
   ]
  },
  {
   "cell_type": "markdown",
   "metadata": {},
   "source": [
    "***Problem 8:***<br>\n",
    "**a.**<br> Our 5 students' test scores are now stored in the 2-d array \"student_scores\". Each row stores the corresponding test's scores. <br>\n",
    "Calculate the mean of grades of each student(columns) and the median of grades per test (rows)?"
   ]
  },
  {
   "cell_type": "code",
   "execution_count": null,
   "metadata": {},
   "outputs": [],
   "source": [
    "student_scores = np.array([[92, 94, 88, 91, 87],\n",
    "                           [79, 100, 86, 93, 91],\n",
    "                           [87, 85, 72, 90, 92]])\n",
    "\n",
    "\n",
    "print(np.mean(student_scores,axis=0))\n",
    "print(np.median(student_scores,axis=1))\n",
    "\n",
    "###_____________End code here_________________###"
   ]
  },
  {
   "cell_type": "markdown",
   "metadata": {},
   "source": [
    "**b.**<br>\n",
    "Create a logical statement that selects elements in \"porridge\" array that are less than 60, and saves them in a new array called \"cold\".<br>\n",
    "Create a logical statement that finds all elements that are higher than 80 and saves them in an array named \"hot\"."
   ]
  },
  {
   "cell_type": "code",
   "execution_count": null,
   "metadata": {},
   "outputs": [],
   "source": [
    "#\n",
    "porridge = np.array([79, 65, 50, 63, 56, 90, 85, 98, 79, 51])\n",
    "###_____________Start code here_________________###\n",
    "import numpy as np\n",
    "cold=[]\n",
    "hot = []\n",
    "for i in porridge:\n",
    "    if i<60:\n",
    "        cold.append(i)\n",
    "    elif i>80:\n",
    "        hot.append(i)\n",
    "    \n",
    "    \n",
    "print(cold)\n",
    "print(hot)\n",
    "\n",
    "###_____________End code here_________________###"
   ]
  },
  {
   "cell_type": "markdown",
   "metadata": {},
   "source": [
    "***Problem 9:***<br><br>**Note:** You do not have to create arrays mannualy; you can use NumPy methods for the below assignments.\n",
    "<br>**a.** Create a null vector of length 100 then assign 10 to 5th value.<br>\n",
    "**b.** Create a vector of length 10 with random integers between 1 and 10.<br>\n",
    "**c.** Convert the given 1D array to a 2D array with 5 rows and 2 columns.\n",
    "<br> **Hint:** You can use numpy's reshape, random.randint, random.random methods for the below assignments."
   ]
  },
  {
   "cell_type": "code",
   "execution_count": null,
   "metadata": {},
   "outputs": [],
   "source": [
    "#a\n",
    "import numpy as np\n",
    "x=np.zeros(100)\n",
    "x[5]=10\n",
    "x"
   ]
  },
  {
   "cell_type": "code",
   "execution_count": null,
   "metadata": {},
   "outputs": [],
   "source": [
    "#b \n",
    "import random\n",
    "vect = [random.randint(1,10) for i in range(10)]\n",
    "vect"
   ]
  },
  {
   "cell_type": "code",
   "execution_count": null,
   "metadata": {},
   "outputs": [],
   "source": [
    "#c\n",
    "arr=np.array([ 0, 1, 2, 3, 4, 5, 6, 7, 8, 9])\n",
    "newarr=np.reshape(arr, (-1,2))\n",
    "newarr\n"
   ]
  },
  {
   "cell_type": "markdown",
   "metadata": {},
   "source": [
    "***Problem 10:***<br>\n",
    "Create a DataFrame with the provided data. We have already filled in the information for \"Product ID\" in \"df1\".<br>\n",
    "Write a code to create the columns \"Product Name\" and \"Color\" with the data given below.</center><br>\n",
    "Products are a pair of blue jeans, a green t-shirt, a black hat and white shoes.<br>\n",
    "After all output (save) it as an .xlsx file in your current directory."
   ]
  },
  {
   "cell_type": "code",
   "execution_count": null,
   "metadata": {},
   "outputs": [],
   "source": [
    "df1 = pd.DataFrame({\n",
    "  'Product ID': [1, 2, 3, 4],\n",
    "   'Product Name':[\"jeans\",\"t-shirt\",\"hat\",\"shoes\"],\n",
    "   'Color':[\"blue\",\"green\",\"black\",\"white\"]\n",
    " \n",
    "})\n",
    "print(df1)\n",
    "df1.to_excel(\"df1.xlsx\") \n",
    "\n",
    "    ###_____________End code here_________________###"
   ]
  },
  {
   "cell_type": "markdown",
   "metadata": {},
   "source": [
    "***Problem 11:***<br>Read the attached file \"titanic.csv\" as DataFrame \"df\", have a look at first 5 rows and get information about the dataset using info() method.</strong><br>\n"
   ]
  },
  {
   "cell_type": "code",
   "execution_count": null,
   "metadata": {},
   "outputs": [],
   "source": [
    "import pandas as pd\n",
    "titanic= pd.read_csv(\"titanic.csv\")\n",
    "titanic.info()"
   ]
  },
  {
   "cell_type": "markdown",
   "metadata": {},
   "source": [
    "Here is the description of dataset columns:\n",
    "survival - Survival (0 = No; 1 = Yes)<br>\n",
    "class - Passenger Class (1 = 1st; 2 = 2nd; 3 = 3rd)<br>\n",
    "sex - Sex<br>\n",
    "age - Age<br>\n",
    "sibsp - Number of Siblings/Spouses Aboard<br>\n",
    "parch - Number of Parents/Children Aboard<br>\n",
    "ticket - Ticket Numbe\n",
    "fare - Passenger Fare<br>\n",
    "cabin - Cabin<br>\n",
    "embarked - Port of Embarkation (C = Cherbourg; Q = Queenstown; S = Southampton)<br>\n",
    "boat - Lifeboat (if survived)<br>\n",
    "body - Body number (if did not survive and body was recovered)<br>\n",
    "home.dest - Adress of people\n",
    "<br><br>\n",
    "a. Drop columns cabin, embarked, boat, body, home.dest."
   ]
  },
  {
   "cell_type": "code",
   "execution_count": null,
   "metadata": {},
   "outputs": [],
   "source": [
    "#a\n",
    "titanic.drop('cabin', axis=1, inplace=True)\n",
    "titanic.drop('embarked', axis=1, inplace=True)\n",
    "titanic.drop('boat', axis=1, inplace=True)\n",
    "titanic.drop('body', axis=1, inplace=True)\n",
    "titanic.drop('home.dest', axis=1, inplace=True)\n",
    "\n",
    "\n"
   ]
  },
  {
   "cell_type": "code",
   "execution_count": null,
   "metadata": {},
   "outputs": [],
   "source": [
    "print(titanic)"
   ]
  },
  {
   "cell_type": "markdown",
   "metadata": {},
   "source": [
    "b. Check how many rows contain missing values."
   ]
  },
  {
   "cell_type": "code",
   "execution_count": null,
   "metadata": {},
   "outputs": [],
   "source": [
    "#b\n",
    "titanic.isna().sum()"
   ]
  },
  {
   "cell_type": "markdown",
   "metadata": {},
   "source": [
    "#### c. Fill missing values in age column by its mean or median."
   ]
  },
  {
   "cell_type": "code",
   "execution_count": null,
   "metadata": {},
   "outputs": [],
   "source": [
    "#c\n",
    "titanic['age'] = titanic['age'].fillna((titanic['age'].mean()))"
   ]
  },
  {
   "cell_type": "markdown",
   "metadata": {},
   "source": [
    "d. Drop remaining missing values."
   ]
  },
  {
   "cell_type": "code",
   "execution_count": null,
   "metadata": {},
   "outputs": [],
   "source": [
    "#d\n",
    "titanic.dropna()"
   ]
  },
  {
   "cell_type": "markdown",
   "metadata": {},
   "source": [
    "e. Calculate the percent of survived and not survived by sex.\n"
   ]
  },
  {
   "cell_type": "code",
   "execution_count": null,
   "metadata": {},
   "outputs": [],
   "source": [
    "#e \n",
    "a =pd.crosstab(titanic.sex,titanic.survived)\n",
    "print(a)\n",
    "femS = a[1][0]/(a[0][0]+a[1][0])*100\n",
    "malS = a[1][1]/(a[0][1]+a[1][1])*100\n",
    "print(femS, \"% of female passangers survived\")\n",
    "print(malS, \"% of male passangers survived\")"
   ]
  },
  {
   "cell_type": "markdown",
   "metadata": {},
   "source": [
    "f. Create a new column named \"fare_AMD\" with the prices of tickets in AMD (1 USD = 485 AMD).<br>\n",
    "**Hint:** You can do it by applying a function on column \"fare\"."
   ]
  },
  {
   "cell_type": "code",
   "execution_count": null,
   "metadata": {},
   "outputs": [],
   "source": [
    "#f\n",
    "\n",
    "titanic[\"fare_AMD\"] = titanic[\"fare\"].apply(lambda x: str(x*485) + \"AMD\")\n",
    "titanic\n"
   ]
  },
  {
   "cell_type": "markdown",
   "metadata": {},
   "source": [
    "g. Round the values of \"fare\" column and add '$' sign in front of them by applying a lambda function."
   ]
  },
  {
   "cell_type": "code",
   "execution_count": null,
   "metadata": {},
   "outputs": [],
   "source": [
    "#g\n",
    "rounded= titanic[\"fare\"].apply(lambda x: \"$\"+str(round(x,0))) \n",
    "print(rounded)"
   ]
  },
  {
   "cell_type": "markdown",
   "metadata": {},
   "source": [
    "**Problem 13:**<br>\n",
    "a. Find all names and ages in the text given below using regex and create dictionary where names are keys and ages are values."
   ]
  },
  {
   "cell_type": "code",
   "execution_count": null,
   "metadata": {},
   "outputs": [],
   "source": [
    "#\n",
    "text = \"I'm Jonh and I'm 12 year old, Jack is 23 and Suzan is 45 and 2132 they all earning $100\"\n",
    "\n",
    "###doonnee____________Start code here_________________###\n",
    "import re \n",
    "pattern = r\"[A-Z][a-z]+\"\n",
    "name = re.findall(pattern,text)\n",
    "pattern1 = r\"[1-9]+\"\n",
    "age = re.findall(pattern1, text)\n",
    "\n",
    "inf = {i:j for i,j in zip(name, age)}\n",
    "inf\n",
    "\n",
    "###_____________End code here_________________###"
   ]
  },
  {
   "cell_type": "markdown",
   "metadata": {},
   "source": [
    "b. Substitute all email endings in the text given below with \"@hogwarts.com\" using regex."
   ]
  },
  {
   "cell_type": "code",
   "execution_count": null,
   "metadata": {},
   "outputs": [],
   "source": [
    "my_t = \"My name is Harry, my e-mail is HarryPotter@aua.am, I need to send my statement of purpose to careers@aua.am\"\n",
    "\n",
    "\n",
    "import re\n",
    "re.sub(\"@[\\w\\.-]+\", \"@hogwarts.com\", my_t)\n",
    "\n",
    "\n",
    "###_____________End code here_________________###"
   ]
  },
  {
   "cell_type": "markdown",
   "metadata": {},
   "source": [
    "**Problem 14**\n",
    "<br>Read \"data.txt\" file attached and get all phone numbers and email addresses into separate lists using regex."
   ]
  },
  {
   "cell_type": "code",
   "execution_count": null,
   "metadata": {},
   "outputs": [],
   "source": [
    "#\n",
    "with open(\"data.txt\", \"r\") as data:\n",
    "    d=data.read()\n",
    "mails =re.findall(r\"[\\w.-]+@[\\w\\.-]+\", d)\n",
    "print(\"THE MAILS ARE\", mails)\n",
    "phone=re.findall(r\"[0-9$][\\w.-]+-[\\w\\.-]+\", d)\n",
    "print(\"THE PHONE NUMBERS ARE\", phone)"
   ]
  },
  {
   "cell_type": "markdown",
   "metadata": {},
   "source": [
    "***Problem 15***<br>Create a class of a human that has data attribute \"nationality\" as Armenian.<br> Make sure that the class instances of human class have arguments name, surname, profession and salary. <br>The class defined must have a method that returns an expression in this format: \"Hi, I am \"name\" \"surname\". I am a/an \"profession\" and I earn \"salary\" a month.\"<br>\n",
    "Create one or more isntancses of the class and call the class method defined on it or them."
   ]
  },
  {
   "cell_type": "code",
   "execution_count": null,
   "metadata": {},
   "outputs": [],
   "source": [
    "\n",
    "class Human():\n",
    "    nationality = \"Armenian\"\n",
    "    def __init__(self, name,surname, profession, salary):\n",
    "        self.name=name\n",
    "        self.surname=surname\n",
    "        self.profession=profession\n",
    "        self.salary=salary\n",
    "    def display (self):\n",
    "        print(\"Hi, I am\", self.name, self.surname ,\".I am a/an\" , self.profession,  \"and I earn\", self.salary, \"a month.\")\n",
    "        \n",
    "\n",
    "she = Human(\"Lilith\", \"Gevorgyan\", \"doctor\", 1000)\n",
    "\n",
    "she.display()\n"
   ]
  },
  {
   "cell_type": "code",
   "execution_count": null,
   "metadata": {},
   "outputs": [],
   "source": []
  }
 ],
 "metadata": {
  "kernelspec": {
   "display_name": "Python 3",
   "language": "python",
   "name": "python3"
  },
  "language_info": {
   "codemirror_mode": {
    "name": "ipython",
    "version": 3
   },
   "file_extension": ".py",
   "mimetype": "text/x-python",
   "name": "python",
   "nbconvert_exporter": "python",
   "pygments_lexer": "ipython3",
   "version": "3.7.1"
  }
 },
 "nbformat": 4,
 "nbformat_minor": 2
}
