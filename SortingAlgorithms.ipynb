{
  "nbformat": 4,
  "nbformat_minor": 0,
  "metadata": {
    "colab": {
      "name": "SortingAlgorithms.ipynb",
      "provenance": [],
      "collapsed_sections": []
    },
    "kernelspec": {
      "name": "python3",
      "display_name": "Python 3"
    }
  },
  "cells": [
    {
      "cell_type": "code",
      "metadata": {
        "id": "YTNDaE-_IHXA"
      },
      "source": [
        "def Partition(A,p,r):   #this function rearranges the array into subarrays that consist of members only larger and only smaller of pivot\n",
        "    x = A[r] #assigning the pivot position to x (the rightest item of A)\n",
        "    i = (p-1)     #getting the index of the first item   \n",
        "    for j in range(p,r-1): \n",
        "        if   A[j] <= x:   #iterating on each item in array and if it's still less tha th epivot\n",
        "            i+=1\n",
        "            A[i],A[j] = A[j],A[i] #moving (chnagig with the lowest value at the time) it left as it's less than the pivot\n",
        "    A[i+1],A[r] = A[r],A[i+1] #brings the previous pivot position between the subarrays \n",
        "    return (i+1) "
      ],
      "execution_count": null,
      "outputs": []
    },
    {
      "cell_type": "code",
      "metadata": {
        "id": "2YCyMyq3TBIu"
      },
      "source": [
        "def QUICKSORT(A,p,r):   \n",
        "    if p<r:     #making sure the indexes are right\n",
        "         q = Partition(A,p,r)   # recursively calling the def quicksort on partitioned arrays\n",
        "         QUICKSORT(A,p,q-1)\n",
        "         QUICKSORT(A,q+1,r)\n",
        "    return(A)"
      ],
      "execution_count": null,
      "outputs": []
    },
    {
      "cell_type": "code",
      "metadata": {
        "id": "615oUKp_Pu3g",
        "colab": {
          "base_uri": "https://localhost:8080/",
          "height": 35
        },
        "outputId": "fd7c98e6-0dfa-46be-a011-4816fb78ea13"
      },
      "source": [
        "Ar=[6,15,8,9,4,3,5] \n",
        "QUICKSORT(Ar, 1, len(Ar)-1)"
      ],
      "execution_count": null,
      "outputs": [
        {
          "output_type": "execute_result",
          "data": {
            "text/plain": [
              "[6, 4, 5, 8, 9, 15, 3]"
            ]
          },
          "metadata": {
            "tags": []
          },
          "execution_count": 75
        }
      ]
    },
    {
      "cell_type": "code",
      "metadata": {
        "id": "-lLoqLY4WP40"
      },
      "source": [
        "#to have balanced output we choose the pivot position by random sampling among all elements of A\n",
        "import random\n",
        "def Rand_Part(A,p,r):\n",
        "    i = random.randint(p,r-1)\n",
        "    A[r],A[i] = A[i],A[r]  #the main diffrenece with the previous case\n",
        "    return Partition(A,p,r)"
      ],
      "execution_count": null,
      "outputs": []
    },
    {
      "cell_type": "code",
      "metadata": {
        "id": "fDGOebZnWNhX"
      },
      "source": [
        "def Rand_Quick(A,p,r):  #all the remaining implements the same logic \n",
        "    if p < r: \n",
        "        q = Rand_Part(A,p,r) \n",
        "        Rand_Quick(A, p, q-1) \n",
        "        Rand_Quick(A, q+1, r) \n",
        "    return (A)"
      ],
      "execution_count": null,
      "outputs": []
    },
    {
      "cell_type": "code",
      "metadata": {
        "id": "Xm6wworcWhGz",
        "colab": {
          "base_uri": "https://localhost:8080/",
          "height": 35
        },
        "outputId": "2bd44d21-bf42-42e4-bc30-d11502d41542"
      },
      "source": [
        "Rand_Quick(Ar,1,len(Ar)-1)\n"
      ],
      "execution_count": null,
      "outputs": [
        {
          "output_type": "execute_result",
          "data": {
            "text/plain": [
              "7"
            ]
          },
          "metadata": {
            "tags": []
          },
          "execution_count": 63
        }
      ]
    },
    {
      "cell_type": "code",
      "metadata": {
        "id": "upLWmFZUXpjN"
      },
      "source": [
        "def Count(A,B,k): #B is the array that'll hold the output, k is a num s.t. all numbers of A< k (the max of A+1)\n",
        "    n=len(A)\n",
        "    C=[0]*(k+1)   #an array that'll hold numbers during the process  \n",
        "    for i in range(0, n):  # for each input number takes that number as an index of C and rites the frequency of that number in A\n",
        "        C[A[i]]+=1        #at the end we see 0s for numbers that're not in A and the num of times the present elements are repeated\n",
        "    for j in range(1, k+1):\n",
        "        C[j]+=C[j-1]  #sums up numbers before each j in C hence we get the num of elements that j is bigger or equal\n",
        "    l=n-1\n",
        "    while l>=0:\n",
        "        B[C[A[l]-1]] = A[l]  #now each value of C shows the exact sorted position in B of each element in A \n",
        "        l -= 1\n",
        "    return (B)  \n"
      ],
      "execution_count": null,
      "outputs": []
    },
    {
      "cell_type": "code",
      "metadata": {
        "id": "jDiGZYjkd0zk",
        "colab": {
          "base_uri": "https://localhost:8080/",
          "height": 35
        },
        "outputId": "4d64318b-9507-4bb5-d78c-b369f3717e99"
      },
      "source": [
        "k = max(Ar)\n",
        "B = [0] * (len(Ar))   # now has 0 elements of the same length as A\n",
        "Count(Ar,B,k)"
      ],
      "execution_count": null,
      "outputs": [
        {
          "output_type": "execute_result",
          "data": {
            "text/plain": [
              "[3, 4, 5, 6, 8, 9, 15]"
            ]
          },
          "metadata": {
            "tags": []
          },
          "execution_count": 83
        }
      ]
    },
    {
      "cell_type": "code",
      "metadata": {
        "id": "gH7njHJJ2UKe"
      },
      "source": [
        "#need to have uniformly and independently distriduted array\n",
        "import math\n",
        "def ins(A): \n",
        "    for i in range(1, len(A)): \n",
        "        key=A[i] \n",
        "        j=i-1\n",
        "        while j>=0 and A[j]>key: \n",
        "            A[j + 1]=A[j] \n",
        "            j -= 1\n",
        "        A[j + 1] = key \n",
        "    return A\n",
        "   \n",
        "def Bucket(A):      \n",
        "    C=[]             \n",
        "    n=len(A)       \n",
        "    for i in range(n):  #adding enough buckets\n",
        "        C.append([])     \n",
        "    for i in range(n): #for each element in A appending that element to correspondingbucket by multiplying it by n and taking the floor integer part\n",
        "        C[math.floor(n*A[i])].append(A[i])  #we get the increasing elements in increasing buckets\n",
        "    for i in range(n):  #this is for the elements that're in the bucket\n",
        "          C[i] = ins(C[i])\n",
        "    p = 0   #so we only need to add the buckets together from C back to A\n",
        "    for i in range(n):    #to take all the elements\n",
        "        for j in range(len(C[i])):  #to get into all the buckets\n",
        "            A[p] = C[i][j]    #accessing each element from each bucket and assigning to each index of A\n",
        "            p += 1\n",
        "    return A \n",
        "   "
      ],
      "execution_count": null,
      "outputs": []
    },
    {
      "cell_type": "code",
      "metadata": {
        "id": "9HTn5jpksIM4",
        "colab": {
          "base_uri": "https://localhost:8080/",
          "height": 35
        },
        "outputId": "d4781c6b-66be-462e-a03f-baa0281c8cdc"
      },
      "source": [
        "Ar1=[0.6,0.15,0.8,0.9,0.4,0.3,0.5] \n",
        "Bucket(Ar1)"
      ],
      "execution_count": null,
      "outputs": [
        {
          "output_type": "execute_result",
          "data": {
            "text/plain": [
              "[0.15, 0.3, 0.4, 0.5, 0.6, 0.8, 0.9]"
            ]
          },
          "metadata": {
            "tags": []
          },
          "execution_count": 97
        }
      ]
    }
  ]
}