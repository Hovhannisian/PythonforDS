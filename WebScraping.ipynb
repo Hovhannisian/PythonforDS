{
  "nbformat": 4,
  "nbformat_minor": 0,
  "metadata": {
    "kernelspec": {
      "display_name": "Python 3",
      "language": "python",
      "name": "python3"
    },
    "language_info": {
      "codemirror_mode": {
        "name": "ipython",
        "version": 3
      },
      "file_extension": ".py",
      "mimetype": "text/x-python",
      "name": "python",
      "nbconvert_exporter": "python",
      "pygments_lexer": "ipython3",
      "version": "3.7.1"
    },
    "colab": {
      "name": "WebScraping.ipynb",
      "provenance": []
    }
  },
  "cells": [
    {
      "cell_type": "markdown",
      "metadata": {
        "id": "4YDQa8Sv0l8_"
      },
      "source": [
        "<br>\n",
        "Scraping the page: http://books.toscrape.com/<br>\n",
        "\n"
      ]
    },
    {
      "cell_type": "code",
      "metadata": {
        "id": "H-3v2kQU0l9A"
      },
      "source": [
        "import numpy as np\n",
        "import pandas as pd\n",
        "import requests\n",
        "from bs4 import BeautifulSoup\n",
        "from pprint import pprint"
      ],
      "execution_count": null,
      "outputs": []
    },
    {
      "cell_type": "code",
      "metadata": {
        "id": "VnbLaOCP0l9C",
        "outputId": "d6e692d9-d191-4a22-a5ff-09bbe67d522d"
      },
      "source": [
        "def bookinfo (url):\n",
        "    response=requests.get(url)\n",
        "    page=BeautifulSoup(response.content, \"html.parser\")\n",
        "    section = page.find_all(\"h3\")\n",
        "    titles = [i.find('a').get('title') for i in section]\n",
        "    prices=page.find_all('p',class_='price_color')\n",
        "    priceraw=[i.get_text() for i in prices] \n",
        "    prices =[ i.split('£')[1] for i in priceraw]\n",
        "    info = pd.DataFrame({'Title':titles,'Price':prices})\n",
        "    return info\n",
        "bookinfo(url)"
      ],
      "execution_count": null,
      "outputs": [
        {
          "output_type": "execute_result",
          "data": {
            "text/html": [
              "<div>\n",
              "<style scoped>\n",
              "    .dataframe tbody tr th:only-of-type {\n",
              "        vertical-align: middle;\n",
              "    }\n",
              "\n",
              "    .dataframe tbody tr th {\n",
              "        vertical-align: top;\n",
              "    }\n",
              "\n",
              "    .dataframe thead th {\n",
              "        text-align: right;\n",
              "    }\n",
              "</style>\n",
              "<table border=\"1\" class=\"dataframe\">\n",
              "  <thead>\n",
              "    <tr style=\"text-align: right;\">\n",
              "      <th></th>\n",
              "      <th>Title</th>\n",
              "      <th>Price</th>\n",
              "    </tr>\n",
              "  </thead>\n",
              "  <tbody>\n",
              "    <tr>\n",
              "      <th>0</th>\n",
              "      <td>A Light in the Attic</td>\n",
              "      <td>51.77</td>\n",
              "    </tr>\n",
              "    <tr>\n",
              "      <th>1</th>\n",
              "      <td>Tipping the Velvet</td>\n",
              "      <td>53.74</td>\n",
              "    </tr>\n",
              "    <tr>\n",
              "      <th>2</th>\n",
              "      <td>Soumission</td>\n",
              "      <td>50.10</td>\n",
              "    </tr>\n",
              "    <tr>\n",
              "      <th>3</th>\n",
              "      <td>Sharp Objects</td>\n",
              "      <td>47.82</td>\n",
              "    </tr>\n",
              "    <tr>\n",
              "      <th>4</th>\n",
              "      <td>Sapiens: A Brief History of Humankind</td>\n",
              "      <td>54.23</td>\n",
              "    </tr>\n",
              "    <tr>\n",
              "      <th>5</th>\n",
              "      <td>The Requiem Red</td>\n",
              "      <td>22.65</td>\n",
              "    </tr>\n",
              "    <tr>\n",
              "      <th>6</th>\n",
              "      <td>The Dirty Little Secrets of Getting Your Dream...</td>\n",
              "      <td>33.34</td>\n",
              "    </tr>\n",
              "    <tr>\n",
              "      <th>7</th>\n",
              "      <td>The Coming Woman: A Novel Based on the Life of...</td>\n",
              "      <td>17.93</td>\n",
              "    </tr>\n",
              "    <tr>\n",
              "      <th>8</th>\n",
              "      <td>The Boys in the Boat: Nine Americans and Their...</td>\n",
              "      <td>22.60</td>\n",
              "    </tr>\n",
              "    <tr>\n",
              "      <th>9</th>\n",
              "      <td>The Black Maria</td>\n",
              "      <td>52.15</td>\n",
              "    </tr>\n",
              "    <tr>\n",
              "      <th>10</th>\n",
              "      <td>Starving Hearts (Triangular Trade Trilogy, #1)</td>\n",
              "      <td>13.99</td>\n",
              "    </tr>\n",
              "    <tr>\n",
              "      <th>11</th>\n",
              "      <td>Shakespeare's Sonnets</td>\n",
              "      <td>20.66</td>\n",
              "    </tr>\n",
              "    <tr>\n",
              "      <th>12</th>\n",
              "      <td>Set Me Free</td>\n",
              "      <td>17.46</td>\n",
              "    </tr>\n",
              "    <tr>\n",
              "      <th>13</th>\n",
              "      <td>Scott Pilgrim's Precious Little Life (Scott Pi...</td>\n",
              "      <td>52.29</td>\n",
              "    </tr>\n",
              "    <tr>\n",
              "      <th>14</th>\n",
              "      <td>Rip it Up and Start Again</td>\n",
              "      <td>35.02</td>\n",
              "    </tr>\n",
              "    <tr>\n",
              "      <th>15</th>\n",
              "      <td>Our Band Could Be Your Life: Scenes from the A...</td>\n",
              "      <td>57.25</td>\n",
              "    </tr>\n",
              "    <tr>\n",
              "      <th>16</th>\n",
              "      <td>Olio</td>\n",
              "      <td>23.88</td>\n",
              "    </tr>\n",
              "    <tr>\n",
              "      <th>17</th>\n",
              "      <td>Mesaerion: The Best Science Fiction Stories 18...</td>\n",
              "      <td>37.59</td>\n",
              "    </tr>\n",
              "    <tr>\n",
              "      <th>18</th>\n",
              "      <td>Libertarianism for Beginners</td>\n",
              "      <td>51.33</td>\n",
              "    </tr>\n",
              "    <tr>\n",
              "      <th>19</th>\n",
              "      <td>It's Only the Himalayas</td>\n",
              "      <td>45.17</td>\n",
              "    </tr>\n",
              "  </tbody>\n",
              "</table>\n",
              "</div>"
            ],
            "text/plain": [
              "                                                Title  Price\n",
              "0                                A Light in the Attic  51.77\n",
              "1                                  Tipping the Velvet  53.74\n",
              "2                                          Soumission  50.10\n",
              "3                                       Sharp Objects  47.82\n",
              "4               Sapiens: A Brief History of Humankind  54.23\n",
              "5                                     The Requiem Red  22.65\n",
              "6   The Dirty Little Secrets of Getting Your Dream...  33.34\n",
              "7   The Coming Woman: A Novel Based on the Life of...  17.93\n",
              "8   The Boys in the Boat: Nine Americans and Their...  22.60\n",
              "9                                     The Black Maria  52.15\n",
              "10     Starving Hearts (Triangular Trade Trilogy, #1)  13.99\n",
              "11                              Shakespeare's Sonnets  20.66\n",
              "12                                        Set Me Free  17.46\n",
              "13  Scott Pilgrim's Precious Little Life (Scott Pi...  52.29\n",
              "14                          Rip it Up and Start Again  35.02\n",
              "15  Our Band Could Be Your Life: Scenes from the A...  57.25\n",
              "16                                               Olio  23.88\n",
              "17  Mesaerion: The Best Science Fiction Stories 18...  37.59\n",
              "18                       Libertarianism for Beginners  51.33\n",
              "19                            It's Only the Himalayas  45.17"
            ]
          },
          "metadata": {
            "tags": []
          },
          "execution_count": 6
        }
      ]
    },
    {
      "cell_type": "code",
      "metadata": {
        "id": "oETcZfOA0l9E",
        "outputId": "53a1c06c-59cf-4734-b643-7ba29e10770a"
      },
      "source": [
        "#scraping book descriptions \n",
        "url=\"http://books.toscrape.com/\"\n",
        "response=requests.get(url)\n",
        "page=BeautifulSoup(response.content, \"html.parser\")\n",
        "\n",
        "def scraper(url):\n",
        "    response=requests.get(url)\n",
        "    page=response.content\n",
        "    page=BeautifulSoup(page,'html.parser') \n",
        "    return page\n",
        "\n",
        "h3= [i for i in page.find_all(\"h3\")]\n",
        "book_links = [i.find(\"a\").get(\"href\") for i in h3]\n",
        "book_links[0]\n",
        "\n",
        "\n",
        "urls=[url+i for i in book_links]\n",
        "urls[0]\n",
        "pages_all=[]\n",
        "for i in urls:\n",
        "    pages_all.append(scraper(i))\n",
        "    \n",
        "descriptions = [i.find('p',class_=False,id=False).get_text() for i in pages_all]\n",
        "descriptions[0]\n"
      ],
      "execution_count": null,
      "outputs": [
        {
          "output_type": "execute_result",
          "data": {
            "text/plain": [
              "\"It's hard to imagine a world without A Light in the Attic. This now-classic collection of poetry and drawings from Shel Silverstein celebrates its 20th anniversary with this special edition. Silverstein's humorous and creative verse can amuse the dowdiest of readers. Lemon-faced adults and fidgety kids sit still and read these rhythmic words and laugh and smile and love th It's hard to imagine a world without A Light in the Attic. This now-classic collection of poetry and drawings from Shel Silverstein celebrates its 20th anniversary with this special edition. Silverstein's humorous and creative verse can amuse the dowdiest of readers. Lemon-faced adults and fidgety kids sit still and read these rhythmic words and laugh and smile and love that Silverstein. Need proof of his genius? RockabyeRockabye baby, in the treetopDon't you know a treetopIs no safe place to rock?And who put you up there,And your cradle, too?Baby, I think someone down here'sGot it in for you. Shel, you never sounded so good. ...more\""
            ]
          },
          "metadata": {
            "tags": []
          },
          "execution_count": 13
        }
      ]
    },
    {
      "cell_type": "markdown",
      "metadata": {
        "id": "1QOk5ZqY0l9F"
      },
      "source": [
        "\n",
        "Scraping  all \"Tags\" from the website http://quotes.toscrape.com/scroll.\n"
      ]
    },
    {
      "cell_type": "code",
      "metadata": {
        "id": "XAwJMS8F0l9F",
        "outputId": "3389c975-d6d6-43e4-bfb4-70e6dda706e6"
      },
      "source": [
        "import os\n",
        "os.getcwd()"
      ],
      "execution_count": null,
      "outputs": [
        {
          "output_type": "execute_result",
          "data": {
            "text/plain": [
              "'C:\\\\Users\\\\User\\\\my property\\\\4. SPRING2018-19\\\\Prog for DS'"
            ]
          },
          "metadata": {
            "tags": []
          },
          "execution_count": 14
        }
      ]
    },
    {
      "cell_type": "code",
      "metadata": {
        "id": "Uy_OHUXX0l9G"
      },
      "source": [
        "url2 = (\"http://quotes.toscrape.com/scroll\")\n",
        "wd =  webdriver.Chrome(\"C:\\\\Users\\\\User\\\\my property\\\\4. SPRING2018-19\\\\Prog for DS\\\\chromedriver\")\n",
        "wd.get(url2)\n",
        "\n",
        "last_height = wd.execute_script(\"return document.body.scrollHeight\")\n",
        "\n",
        "while True:\n",
        "    wd.execute_script(\"window.scrollTo(0, document.body.scrollHeight);\")\n",
        "    time.sleep(1)\n",
        "    new_height = wd.execute_script(\"return document.body.scrollHeight\")\n",
        "    \n",
        "    if new_height == last_height:\n",
        "        break\n",
        "    last_height = new_height"
      ],
      "execution_count": null,
      "outputs": []
    },
    {
      "cell_type": "code",
      "metadata": {
        "id": "n8d2v8Oy0l9G"
      },
      "source": [
        "page_ = wd.page_source\n",
        "page_ = BeautifulSoup(page_, \"html.parser\")\n",
        "tags = [a.get_text() for a in page_.find_all(\"a\", class_ = \"tag\")]\n",
        "tags"
      ],
      "execution_count": null,
      "outputs": []
    },
    {
      "cell_type": "markdown",
      "metadata": {
        "id": "1vxolqGB0l9G"
      },
      "source": [
        "<br>\n",
        "Login to https://www.codecademy.com/login <br>"
      ]
    },
    {
      "cell_type": "code",
      "metadata": {
        "id": "CY6mTiss0l9H"
      },
      "source": [
        "!pip install selenium"
      ],
      "execution_count": null,
      "outputs": []
    },
    {
      "cell_type": "code",
      "metadata": {
        "id": "pS1Nd0yt0l9H"
      },
      "source": [
        "!sudo apt-get install chromium-chromedriver\n",
        "!whereis chromedriver"
      ],
      "execution_count": null,
      "outputs": []
    },
    {
      "cell_type": "code",
      "metadata": {
        "id": "GgXmyb4E0l9H"
      },
      "source": [
        "from selenium import webdriver as wd\n",
        "from bs4 import BeautifulSoup\n",
        "import requests\n",
        "import pprint\n",
        "import time\n",
        "import selenium.webdriver.common.keys as Keys"
      ],
      "execution_count": null,
      "outputs": []
    },
    {
      "cell_type": "code",
      "metadata": {
        "id": "O1HQGbAf0l9H"
      },
      "source": [
        "cd=r\"/usr/bin/chromedriver\"\n",
        "chrome_options = webdriver.ChromeOptions()\n",
        "chrome_options.add_argument('--headless')\n",
        "chrome_options.add_argument('--no-sandbox')\n",
        "chrome_options.add_argument('--disable-dev-shm-usage')\n",
        "wd = webdriver.Chrome(cd,options=chrome_options)"
      ],
      "execution_count": null,
      "outputs": []
    },
    {
      "cell_type": "code",
      "metadata": {
        "id": "6alvdtZg0l9I"
      },
      "source": [
        "login=\"DataScientist-Scraper\"\n",
        "password=\"scrapinghub\"\n",
        "\n",
        "url1='https://www.codecademy.com/login'\n",
        "wd.get(url1)\n",
        "\n",
        "log_box=wd.find_element_by_id(\"user_login\")\n",
        "pass_box = wd.find_element_by_id('login__user_password')\n",
        "\n",
        "log_box.send_keys(login)\n",
        "pass_box.send_keys(password)\n",
        "\n",
        "log_button = wd.find_element_by_id('user_submit')\n",
        "log_button.click()\n",
        "time_sleep(3)\n",
        "\n",
        "response=requests.get(url1)\n",
        "git=BeautifulSoup(response.content, \"html.parser\")\n",
        "git"
      ],
      "execution_count": null,
      "outputs": []
    },
    {
      "cell_type": "markdown",
      "metadata": {
        "id": "zSr2TPE00l9I"
      },
      "source": [
        "<br>\n",
        "Defining a program to play a user-inputed song name on Youtube "
      ]
    },
    {
      "cell_type": "code",
      "metadata": {
        "id": "bR6hYru10l9I"
      },
      "source": [
        "vid = input(\" \")\n",
        "wd = webdriver.Chrome(\"C:\\\\Users\\\\User\\\\my property\\\\4. SPRING2018-19\\\\Prog for DS\\\\chromedriver\")\n",
        "wd.get(\"https://www.youtube.com/\")\n",
        "search_box = wd.find_element_by_id(\"search\")\n",
        "search_box.send_keys(vid)\n",
        "time.sleep(3)\n",
        "search_icon = wd.find_element_by_id(\"search-icon-legacy\")\n",
        "search_icon.click()\n",
        "time.sleep(3)\n",
        "video = wd.find_element_by_class_name(\"ytd-thumbnail\")\n",
        "video.click()\n"
      ],
      "execution_count": null,
      "outputs": []
    }
  ]
}